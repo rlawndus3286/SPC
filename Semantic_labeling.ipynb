{
 "cells": [
  {
   "cell_type": "code",
   "execution_count": 12,
   "metadata": {},
   "outputs": [],
   "source": [
    "import os\n",
    "import sys\n",
    "import argparse\n",
    "import struct"
   ]
  },
  {
   "cell_type": "code",
   "execution_count": 22,
   "metadata": {},
   "outputs": [],
   "source": [
    "def read_labels(filename):\n",
    "  \"\"\" read labels from given file. \"\"\"\n",
    "  contents = bytes()\n",
    "  with open(filename, \"rb\") as f:\n",
    "    f.seek(0, 2)  # move the cursor to the end of the file\n",
    "    num_points = int(f.tell() / 4)\n",
    "    f.seek(0, 0)\n",
    "    contents = f.read()\n",
    "\n",
    "  arr = [struct.unpack('<I', contents[4 * i:4 * i + 4])[0] for i in range(num_points)]\n",
    "\n",
    "  return arr"
   ]
  },
  {
   "cell_type": "code",
   "execution_count": 23,
   "metadata": {},
   "outputs": [],
   "source": [
    "def write_labels(filename, labels):\n",
    "  \"\"\" write labels in given file. \"\"\"\n",
    "  arr = [struct.pack('<I', label) for label in labels]\n",
    "\n",
    "  with open(filename, \"bw\") as f:\n",
    "    for a in arr:\n",
    "      f.write(a)"
   ]
  },
  {
   "cell_type": "code",
   "execution_count": 24,
   "metadata": {},
   "outputs": [
    {
     "data": {
      "text/plain": [
       "['Track_D_20201224_011609_Profiler_zfs_42_m.label']"
      ]
     },
     "execution_count": 24,
     "metadata": {},
     "output_type": "execute_result"
    }
   ],
   "source": [
    "os.listdir(\"../alien4/바탕화면/210201_D42/labels\")"
   ]
  },
  {
   "cell_type": "markdown",
   "metadata": {},
   "source": [
    "**경로만 잘 정해주면 됨** \n",
    "\n",
    "모든 파일 다운로드하고 이거 돌려도 될듯"
   ]
  },
  {
   "cell_type": "code",
   "execution_count": 25,
   "metadata": {},
   "outputs": [],
   "source": [
    "label_path = \"../alien4/바탕화면/210201_D42/labels/Track_D_20201224_011609_Profiler_zfs_42_m.label\"\n",
    "bin_path = \"../alien4/바탕화면/210201_D42/velodyne/Track_D_20201224_011609_Profiler_zfs_42_m.bin\""
   ]
  },
  {
   "cell_type": "code",
   "execution_count": 26,
   "metadata": {},
   "outputs": [],
   "source": [
    "#불러오기\n",
    "labels=read_labels(label_path)\n",
    "bins=read_labels(bin_path)"
   ]
  },
  {
   "cell_type": "code",
   "execution_count": 33,
   "metadata": {},
   "outputs": [],
   "source": [
    "brightness=[]\n",
    "for i in range(len(labels)):\n",
    "    brightness.append(bins[4*i+3])"
   ]
  },
  {
   "cell_type": "code",
   "execution_count": 41,
   "metadata": {},
   "outputs": [],
   "source": [
    "#밝은 애들 모아두기\n",
    "bright=[]\n",
    "for i in range(len(labels)):\n",
    "    if (brightness[i]>1050000000):\n",
    "        bright.append(i)"
   ]
  },
  {
   "cell_type": "code",
   "execution_count": 44,
   "metadata": {},
   "outputs": [
    {
     "data": {
      "text/plain": [
       "(3395790, 7901336)"
      ]
     },
     "execution_count": 44,
     "metadata": {},
     "output_type": "execute_result"
    }
   ],
   "source": [
    "len(bright), len(labels)"
   ]
  },
  {
   "cell_type": "code",
   "execution_count": 47,
   "metadata": {},
   "outputs": [],
   "source": [
    "for i in bright:\n",
    "    # 40=road , 60=lane\n",
    "    if labels[i]==40:\n",
    "        labels[i]=60"
   ]
  },
  {
   "cell_type": "code",
   "execution_count": 48,
   "metadata": {},
   "outputs": [],
   "source": [
    "#저장\n",
    "write_labels(label_path,labels)"
   ]
  }
 ],
 "metadata": {
  "kernelspec": {
   "display_name": "Python 3",
   "language": "python",
   "name": "python3"
  },
  "language_info": {
   "codemirror_mode": {
    "name": "ipython",
    "version": 3
   },
   "file_extension": ".py",
   "mimetype": "text/x-python",
   "name": "python",
   "nbconvert_exporter": "python",
   "pygments_lexer": "ipython3",
   "version": "3.6.9"
  }
 },
 "nbformat": 4,
 "nbformat_minor": 4
}
