{
 "cells": [
  {
   "cell_type": "markdown",
   "metadata": {},
   "source": [
    "### 모듈, 함수정의 <br>"
   ]
  },
  {
   "cell_type": "code",
   "execution_count": 1,
   "metadata": {},
   "outputs": [],
   "source": [
    "import os\n",
    "import sys\n",
    "import struct\n",
    "import numpy as np"
   ]
  },
  {
   "cell_type": "code",
   "execution_count": 2,
   "metadata": {},
   "outputs": [],
   "source": [
    "# 파일 불러오기\n",
    "def read_file(filename):\n",
    "  contents = bytes()\n",
    "\n",
    "  with open(filename, \"rb\") as f:\n",
    "    f.seek(0, 2)\n",
    "    num_points = int(f.tell() / 4)\n",
    "    f.seek(0, 0)\n",
    "    contents = f.read()\n",
    "\n",
    "  arr = [struct.unpack('<I', contents[4 * i:4 * i + 4])[0] for i in range(num_points)]\n",
    "\n",
    "  return arr"
   ]
  },
  {
   "cell_type": "code",
   "execution_count": 3,
   "metadata": {},
   "outputs": [],
   "source": [
    "# 파일 저장하기\n",
    "def save_file(filename, labels):\n",
    "  arr = [struct.pack('<I', label) for label in labels]\n",
    "\n",
    "  with open(filename, \"bw\") as f:\n",
    "    for a in arr:\n",
    "      f.write(a)"
   ]
  },
  {
   "cell_type": "markdown",
   "metadata": {},
   "source": [
    "### 경로 지정, 파일 불러오기 <br>"
   ]
  },
  {
   "cell_type": "code",
   "execution_count": 4,
   "metadata": {},
   "outputs": [
    {
     "data": {
      "text/plain": [
       "'/home/alien4/바탕화면'"
      ]
     },
     "execution_count": 4,
     "metadata": {},
     "output_type": "execute_result"
    }
   ],
   "source": [
    "os.getcwd()"
   ]
  },
  {
   "cell_type": "code",
   "execution_count": 5,
   "metadata": {},
   "outputs": [],
   "source": [
    "# 바탕화면에서 주피터노트북 시작하면 바탕화면 경로\n",
    "# os.getcwd() 이용해도됨\n",
    "cur_path = os.getcwd()\n",
    "\n",
    "# Lane 라벨링 할 디렉토리명\n",
    "work_dir = \"LaneLabeling_A20\"\n",
    "\n",
    "# label,velodyne\n",
    "labels_path = os.path.join(cur_path, work_dir, \"labels\")\n",
    "velodyne_path = os.path.join(cur_path, work_dir, \"velodyne\")"
   ]
  },
  {
   "cell_type": "code",
   "execution_count": 6,
   "metadata": {},
   "outputs": [],
   "source": [
    "# 파일경로 지정\n",
    "for file in os.listdir(labels_path):\n",
    "    if file.endswith(\".label\"):\n",
    "        label_file = os.path.join(labels_path, file)\n",
    "        \n",
    "for file in os.listdir(velodyne_path):\n",
    "    if file.endswith(\".bin\"):\n",
    "        bin_file = os.path.join(velodyne_path, file)"
   ]
  },
  {
   "cell_type": "code",
   "execution_count": 7,
   "metadata": {},
   "outputs": [],
   "source": [
    "#불러오기\n",
    "labels=read_file(label_file)\n",
    "bins=read_file(bin_file)"
   ]
  },
  {
   "cell_type": "markdown",
   "metadata": {},
   "source": [
    "### bin 파일에서 주요값들 불러오기 <br>"
   ]
  },
  {
   "cell_type": "code",
   "execution_count": 8,
   "metadata": {},
   "outputs": [
    {
     "name": "stdout",
     "output_type": "stream",
     "text": [
      "7853405\n"
     ]
    }
   ],
   "source": [
    "# 점의 개수\n",
    "num_points = len(labels)\n",
    "print(num_points)"
   ]
  },
  {
   "cell_type": "code",
   "execution_count": 9,
   "metadata": {},
   "outputs": [],
   "source": [
    "# 광도 정보들 brightness에 저장\n",
    "brightness=[]\n",
    "x=[]\n",
    "y=[]\n",
    "for i in range(num_points):\n",
    "    x.append(bins[4*i])\n",
    "    y.append(bins[4*i+1])\n",
    "    brightness.append(bins[4*i+3])"
   ]
  },
  {
   "cell_type": "markdown",
   "metadata": {},
   "source": [
    "### 파라미터 조절하기 <br>"
   ]
  },
  {
   "cell_type": "code",
   "execution_count": 10,
   "metadata": {},
   "outputs": [],
   "source": [
    "# 빛의 세기 파라미터\n",
    "def_intensity=1060000000 # default: intensity=1050000000"
   ]
  },
  {
   "cell_type": "code",
   "execution_count": 11,
   "metadata": {},
   "outputs": [
    {
     "data": {
      "text/plain": [
       "505717"
      ]
     },
     "execution_count": 11,
     "metadata": {},
     "output_type": "execute_result"
    }
   ],
   "source": [
    "# 밝은 애들 모으기\n",
    "num_high_intensity=[]\n",
    "for i in range(num_points):\n",
    "    if (brightness[i]>def_intensity) and (labels[i]==40):\n",
    "        num_high_intensity.append(i)\n",
    "len(num_high_intensity)"
   ]
  },
  {
   "cell_type": "markdown",
   "metadata": {},
   "source": [
    "### 로드만 적용할 수 있도록 조절 <br>"
   ]
  },
  {
   "cell_type": "code",
   "execution_count": 12,
   "metadata": {},
   "outputs": [],
   "source": [
    "array_x = np.array(x)\n",
    "array_y = np.array(y)"
   ]
  },
  {
   "cell_type": "code",
   "execution_count": 13,
   "metadata": {},
   "outputs": [],
   "source": [
    "for i in range(num_points):\n",
    "    if labels[i]!=40:\n",
    "        array_x[i]=-1\n",
    "        array_y[i]=-1"
   ]
  },
  {
   "cell_type": "markdown",
   "metadata": {},
   "source": [
    "### Lane으로 바꾸기 <br>"
   ]
  },
  {
   "cell_type": "code",
   "execution_count": 14,
   "metadata": {},
   "outputs": [],
   "source": [
    "# 빛의 세기 파라미터 배열\n",
    "intensity=[] # default: intensity=1050000000\n",
    "minus = 1000000\n",
    "\n",
    "# 1060000000 ~ 1080000000\n",
    "for i in range(21):\n",
    "    intensity.append(def_intensity-i*minus+20000000)"
   ]
  },
  {
   "cell_type": "code",
   "execution_count": 15,
   "metadata": {},
   "outputs": [
    {
     "name": "stdout",
     "output_type": "stream",
     "text": [
      "작업량 1: 356\n",
      "작업량 2: 101\n",
      "작업량 3: 118\n",
      "작업량 4: 167\n",
      "작업량 5: 299\n",
      "작업량 6: 465\n",
      "작업량 7: 1004\n",
      "작업량 8: 1545\n",
      "작업량 9: 3016\n",
      "작업량 10: 6399\n",
      "작업량 11: 11015\n",
      "작업량 12: 16525\n"
     ]
    },
    {
     "ename": "KeyboardInterrupt",
     "evalue": "",
     "output_type": "error",
     "traceback": [
      "\u001b[0;31m---------------------------------------------------------------------------\u001b[0m",
      "\u001b[0;31mKeyboardInterrupt\u001b[0m                         Traceback (most recent call last)",
      "\u001b[0;32m<ipython-input-15-bea21b6977e1>\u001b[0m in \u001b[0;36m<module>\u001b[0;34m\u001b[0m\n\u001b[1;32m     16\u001b[0m     \u001b[0mlane\u001b[0m\u001b[0;34m=\u001b[0m\u001b[0;34m[\u001b[0m\u001b[0;34m]\u001b[0m\u001b[0;34m\u001b[0m\u001b[0;34m\u001b[0m\u001b[0m\n\u001b[1;32m     17\u001b[0m     \u001b[0;32mfor\u001b[0m \u001b[0mi\u001b[0m \u001b[0;32min\u001b[0m \u001b[0mhigh_intensity\u001b[0m\u001b[0;34m:\u001b[0m\u001b[0;34m\u001b[0m\u001b[0;34m\u001b[0m\u001b[0m\n\u001b[0;32m---> 18\u001b[0;31m         \u001b[0msame_x\u001b[0m \u001b[0;34m=\u001b[0m \u001b[0mset\u001b[0m\u001b[0;34m(\u001b[0m\u001b[0mnp\u001b[0m\u001b[0;34m.\u001b[0m\u001b[0mwhere\u001b[0m\u001b[0;34m(\u001b[0m\u001b[0marray_x\u001b[0m\u001b[0;34m==\u001b[0m\u001b[0mx\u001b[0m\u001b[0;34m[\u001b[0m\u001b[0mi\u001b[0m\u001b[0;34m]\u001b[0m\u001b[0;34m)\u001b[0m\u001b[0;34m[\u001b[0m\u001b[0;36m0\u001b[0m\u001b[0;34m]\u001b[0m\u001b[0;34m)\u001b[0m\u001b[0;34m\u001b[0m\u001b[0;34m\u001b[0m\u001b[0m\n\u001b[0m\u001b[1;32m     19\u001b[0m         \u001b[0msame_y\u001b[0m \u001b[0;34m=\u001b[0m \u001b[0mset\u001b[0m\u001b[0;34m(\u001b[0m\u001b[0mnp\u001b[0m\u001b[0;34m.\u001b[0m\u001b[0mwhere\u001b[0m\u001b[0;34m(\u001b[0m\u001b[0marray_y\u001b[0m\u001b[0;34m==\u001b[0m\u001b[0my\u001b[0m\u001b[0;34m[\u001b[0m\u001b[0mi\u001b[0m\u001b[0;34m]\u001b[0m\u001b[0;34m)\u001b[0m\u001b[0;34m[\u001b[0m\u001b[0;36m0\u001b[0m\u001b[0;34m]\u001b[0m\u001b[0;34m)\u001b[0m\u001b[0;34m\u001b[0m\u001b[0;34m\u001b[0m\u001b[0m\n\u001b[1;32m     20\u001b[0m         \u001b[0msame\u001b[0m \u001b[0;34m=\u001b[0m \u001b[0msame_x\u001b[0m\u001b[0;34m.\u001b[0m\u001b[0mintersection\u001b[0m\u001b[0;34m(\u001b[0m\u001b[0msame_y\u001b[0m\u001b[0;34m)\u001b[0m\u001b[0;34m\u001b[0m\u001b[0;34m\u001b[0m\u001b[0m\n",
      "\u001b[0;31mKeyboardInterrupt\u001b[0m: "
     ]
    }
   ],
   "source": [
    "num=0\n",
    "cur_high_intensity=0\n",
    "# intensity size 조정하고 돌리기\n",
    "for size in intensity :\n",
    "    \n",
    "    num+=1\n",
    "    # 밝은 애들 모으기\n",
    "    high_intensity=[]\n",
    "    for i in range(num_points):\n",
    "        if (brightness[i]>size) and (labels[i]==40):\n",
    "            high_intensity.append(i)\n",
    "    \n",
    "    cur_high_intensity += len(high_intensity)\n",
    "    print((\"작업량 {}: {}\").format(num, len(high_intensity)))\n",
    "            \n",
    "    lane=[]\n",
    "    for i in high_intensity:\n",
    "        same_x = set(np.where(array_x==x[i])[0])\n",
    "        same_y = set(np.where(array_y==y[i])[0])\n",
    "        same = same_x.intersection(same_y)\n",
    "        same = list(same)\n",
    "        lane.append(same)\n",
    "        \n",
    "    lane_points=[]\n",
    "    for i in range(len(lane)):\n",
    "        for j in lane[i]:\n",
    "            lane_points.append(j)\n",
    "            \n",
    "    # 보라색중에 밝은 보라색을 차선으로 바꾸기\n",
    "    for i in lane_points:\n",
    "        # 40=road , 60=lane\n",
    "        labels[i]=60\n",
    "\n",
    "print((\"원래의 작업량 {} / 수정된 작업량 {} \").format(num_high_intensity,\n",
    "                                       cur_high_intensity))"
   ]
  },
  {
   "cell_type": "code",
   "execution_count": 51,
   "metadata": {},
   "outputs": [],
   "source": [
    "#저장\n",
    "save_file(label_file,labels)"
   ]
  }
 ],
 "metadata": {
  "kernelspec": {
   "display_name": "Python 3",
   "language": "python",
   "name": "python3"
  },
  "language_info": {
   "codemirror_mode": {
    "name": "ipython",
    "version": 3
   },
   "file_extension": ".py",
   "mimetype": "text/x-python",
   "name": "python",
   "nbconvert_exporter": "python",
   "pygments_lexer": "ipython3",
   "version": "3.6.9"
  }
 },
 "nbformat": 4,
 "nbformat_minor": 4
}
