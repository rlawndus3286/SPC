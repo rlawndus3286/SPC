{
 "cells": [
  {
   "cell_type": "markdown",
   "metadata": {},
   "source": [
    "### 모듈, 함수정의 <br>"
   ]
  },
  {
   "cell_type": "code",
   "execution_count": 1,
   "metadata": {},
   "outputs": [],
   "source": [
    "import os\n",
    "import sys\n",
    "import struct"
   ]
  },
  {
   "cell_type": "code",
   "execution_count": 2,
   "metadata": {},
   "outputs": [],
   "source": [
    "# 파일 불러오기\n",
    "def read_file(filename):\n",
    "  contents = bytes()\n",
    "\n",
    "  with open(filename, \"rb\") as f:\n",
    "    f.seek(0, 2)\n",
    "    num_points = int(f.tell() / 4)\n",
    "    f.seek(0, 0)\n",
    "    contents = f.read()\n",
    "\n",
    "  arr = [struct.unpack('<I', contents[4 * i:4 * i + 4])[0] for i in range(num_points)]\n",
    "\n",
    "  return arr"
   ]
  },
  {
   "cell_type": "code",
   "execution_count": 3,
   "metadata": {},
   "outputs": [],
   "source": [
    "# 파일 저장하기\n",
    "def save_file(filename, labels):\n",
    "  arr = [struct.pack('<I', label) for label in labels]\n",
    "\n",
    "  with open(filename, \"bw\") as f:\n",
    "    for a in arr:\n",
    "      f.write(a)"
   ]
  },
  {
   "cell_type": "markdown",
   "metadata": {},
   "source": [
    "### 경로 지정, 파일 불러오기 <br>"
   ]
  },
  {
   "cell_type": "code",
   "execution_count": 4,
   "metadata": {},
   "outputs": [],
   "source": [
    "# 바탕화면에서 주피터노트북 시작하면 바탕화면 경로\n",
    "# os.getcwd() 이용해도됨\n",
    "cur_path = \"/home/jooyeon/바탕화면\"\n",
    "\n",
    "# Lane 라벨링 할 디렉토리명\n",
    "work_dir = \"Track_A_00\"\n",
    "\n",
    "# label,velodyne\n",
    "labels_path = os.path.join(cur_path, work_dir, \"labels\")\n",
    "velodyne_path = os.path.join(cur_path, work_dir, \"velodyne\")"
   ]
  },
  {
   "cell_type": "code",
   "execution_count": 5,
   "metadata": {},
   "outputs": [],
   "source": [
    "# 파일경로 지정\n",
    "for file in os.listdir(labels_path):\n",
    "    if file.endswith(\".label\"):\n",
    "        label_file = os.path.join(labels_path, file)\n",
    "        \n",
    "for file in os.listdir(velodyne_path):\n",
    "    if file.endswith(\".bin\"):\n",
    "        bin_file = os.path.join(velodyne_path, file)"
   ]
  },
  {
   "cell_type": "code",
   "execution_count": 6,
   "metadata": {},
   "outputs": [],
   "source": [
    "#불러오기\n",
    "labels=read_file(label_file)\n",
    "bins=read_file(bin_file)"
   ]
  },
  {
   "cell_type": "markdown",
   "metadata": {},
   "source": [
    "### 파일 수정, 저장 <br>"
   ]
  },
  {
   "cell_type": "code",
   "execution_count": 7,
   "metadata": {},
   "outputs": [],
   "source": [
    "# 점의 개수\n",
    "num_points = len(labels)"
   ]
  },
  {
   "cell_type": "code",
   "execution_count": 8,
   "metadata": {},
   "outputs": [],
   "source": [
    "# 광도 정보들 brightness에 저장\n",
    "brightness=[]\n",
    "for i in range(num_points):\n",
    "    brightness.append(bins[4*i+3])"
   ]
  },
  {
   "cell_type": "code",
   "execution_count": 9,
   "metadata": {},
   "outputs": [],
   "source": [
    "# 빛의 세기 파라미터\n",
    "intensity=1050000000 # default: intensity=1050000000"
   ]
  },
  {
   "cell_type": "code",
   "execution_count": 10,
   "metadata": {},
   "outputs": [],
   "source": [
    "# 밝은 애들 모으기\n",
    "high_intensity=[]\n",
    "for i in range(num_points):\n",
    "    if (brightness[i]>1050000000):\n",
    "        high_intensity.append(i)"
   ]
  },
  {
   "cell_type": "code",
   "execution_count": 11,
   "metadata": {},
   "outputs": [],
   "source": [
    "# 보라색중에 밝은 보라색을 차선으로 바꾸기\n",
    "for i in high_intensity:\n",
    "    # 40=road , 60=lane\n",
    "    if labels[i]==40:\n",
    "        labels[i]=60"
   ]
  },
  {
   "cell_type": "code",
   "execution_count": 12,
   "metadata": {},
   "outputs": [],
   "source": [
    "#저장\n",
    "save_file(label_file,labels)"
   ]
  }
 ],
 "metadata": {
  "kernelspec": {
   "display_name": "Python 3",
   "language": "python",
   "name": "python3"
  },
  "language_info": {
   "codemirror_mode": {
    "name": "ipython",
    "version": 3
   },
   "file_extension": ".py",
   "mimetype": "text/x-python",
   "name": "python",
   "nbconvert_exporter": "python",
   "pygments_lexer": "ipython3",
   "version": "3.8.5"
  }
 },
 "nbformat": 4,
 "nbformat_minor": 4
}
